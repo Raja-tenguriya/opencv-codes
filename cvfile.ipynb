{
 "cells": [
  {
   "cell_type": "code",
   "execution_count": null,
   "id": "51173e2a-cc83-40a7-b634-c9e5d8760929",
   "metadata": {},
   "outputs": [],
   "source": [
    "import cv2\n",
    "image = cv2.imread(r\"D:\\files_data\\c.v lab\\files\\img3.jpg\")  \n",
    "if image is None:\n",
    "    print(\"Error: image not found or cannot be read\")\n",
    "else:\n",
    "    print(image.shape)"
   ]
  },
  {
   "cell_type": "code",
   "execution_count": null,
   "id": "ce28d1ac-0c2a-436f-8e72-dc7811e202e5",
   "metadata": {},
   "outputs": [],
   "source": [
    "image.min()"
   ]
  },
  {
   "cell_type": "code",
   "execution_count": null,
   "id": "a67cb965-804c-4b5f-afc9-6b1b2d6729d1",
   "metadata": {},
   "outputs": [],
   "source": [
    "image.max()"
   ]
  },
  {
   "cell_type": "code",
   "execution_count": null,
   "id": "ffc70762-6638-4062-afef-41812fcd0336",
   "metadata": {},
   "outputs": [],
   "source": [
    "import matplotlib.pyplot as plt"
   ]
  },
  {
   "cell_type": "code",
   "execution_count": null,
   "id": "c6dd8182-43aa-43d8-80d4-a32f43836717",
   "metadata": {},
   "outputs": [],
   "source": [
    "plt.figure(figsize=(10,10))\n",
    "plt.imshow(image)\n",
    "plt.show\n"
   ]
  },
  {
   "cell_type": "code",
   "execution_count": null,
   "id": "4713765e-1203-427c-bec2-367ff796c07e",
   "metadata": {},
   "outputs": [],
   "source": [
    "gray_image = cv2.cvtColor(image, cv2.COLOR_BGR2GRAY)"
   ]
  },
  {
   "cell_type": "code",
   "execution_count": null,
   "id": "85a37d84-bf9c-4c91-8dfe-3ac81827e940",
   "metadata": {},
   "outputs": [],
   "source": [
    "gray_image.shape"
   ]
  },
  {
   "cell_type": "code",
   "execution_count": null,
   "id": "41a2bb94-3d78-4f68-9c32-37456d9f92e8",
   "metadata": {},
   "outputs": [],
   "source": [
    "plt.figure(figsize=(40,40))"
   ]
  },
  {
   "cell_type": "code",
   "execution_count": null,
   "id": "bd5b608b-2586-4ea8-ab07-b1af350bf685",
   "metadata": {},
   "outputs": [],
   "source": [
    "plt.imshow(gray_image)\n",
    "plt.show()"
   ]
  },
  {
   "cell_type": "code",
   "execution_count": null,
   "id": "64f5d1de-5540-4f03-8848-e9ad535b1115",
   "metadata": {},
   "outputs": [],
   "source": [
    "plt.imshow(gray_image, cmap='gray')\n",
    "plt.show()"
   ]
  },
  {
   "cell_type": "code",
   "execution_count": null,
   "id": "72d216c5-9054-47f1-a6e3-3300a366b211",
   "metadata": {},
   "outputs": [],
   "source": [
    "cv2.imwrite('test_image2.jpg',gray_image)"
   ]
  },
  {
   "cell_type": "code",
   "execution_count": null,
   "id": "279270ed-8d09-43d7-a799-9af44c190a02",
   "metadata": {},
   "outputs": [],
   "source": [
    "image2_gray = cv2.imread('test_image2.png', cv2.IMREAD_GRAYSCALE)\n",
    "blue, green, red = image[:,:,0],image[:,:,1],image[:,:,2]\n",
    "new_image = cv2.vconcat([blue,green,red])"
   ]
  },
  {
   "cell_type": "code",
   "execution_count": null,
   "id": "f0d90a1e-d075-42a0-9a27-2bdd6d68aa51",
   "metadata": {},
   "outputs": [],
   "source": [
    "blue, green, red = image[:,:,0],image[:,:,1],image[:,:,2]\n",
    "new_image = cv2.vconcat([blue,green,red])"
   ]
  },
  {
   "cell_type": "code",
   "execution_count": null,
   "id": "505a692a-c9ad-472e-8ccd-8cbdaaf1d95b",
   "metadata": {},
   "outputs": [],
   "source": [
    "plt.subplot(121)"
   ]
  },
  {
   "cell_type": "code",
   "execution_count": null,
   "id": "29f32c1e-50b7-4f3b-a90d-bf1cdb93c636",
   "metadata": {},
   "outputs": [],
   "source": [
    "plt.imshow(cv2.cvtColor(image,cv2.COLOR_BGR2RGB))"
   ]
  },
  {
   "cell_type": "code",
   "execution_count": null,
   "id": "5d8db895-7888-4dab-87be-40630d0c79d2",
   "metadata": {},
   "outputs": [],
   "source": [
    "plt.title(\"RGB image\")\n",
    "plt.subplot(122)"
   ]
  },
  {
   "cell_type": "code",
   "execution_count": null,
   "id": "0f975b96-85ce-42a1-8a71-dd1f0006cc95",
   "metadata": {},
   "outputs": [],
   "source": [
    "plt.imshow(new_image,cmap='gray')\n",
    "plt.title(\"all channels\")"
   ]
  },
  {
   "cell_type": "code",
   "execution_count": null,
   "id": "8fd4b343-be9a-4924-952a-c4afdd51900c",
   "metadata": {},
   "outputs": [],
   "source": [
    "plt.figure(figsize=(10,10))\n",
    "plt.imshow(image,cmap='gray')\n",
    "plt.show()"
   ]
  },
  {
   "cell_type": "code",
   "execution_count": null,
   "id": "84d84b87-cb4b-4778-9353-090a7ca69a02",
   "metadata": {},
   "outputs": [],
   "source": [
    "plt.title(\"Different Color channels\")\n",
    "plt.show()"
   ]
  },
  {
   "cell_type": "code",
   "execution_count": null,
   "id": "75973b68-bf7b-4e5a-b427-cd5de15310aa",
   "metadata": {},
   "outputs": [],
   "source": [
    "plt.figure(figsize=(10,10))\n",
    "plt.subplot(121)"
   ]
  },
  {
   "cell_type": "code",
   "execution_count": null,
   "id": "c6006ebd-4ee3-4a90-aeb3-9c04cff2f073",
   "metadata": {},
   "outputs": [],
   "source": [
    "plt.imshow(cv2.cvtColor(image,cv2.COLOR_BGR2RGB))\n",
    "plt.title(\"RGB Image\")"
   ]
  },
  {
   "cell_type": "code",
   "execution_count": null,
   "id": "4c22dba4-7797-48f4-9d67-a916d449bf2a",
   "metadata": {},
   "outputs": [],
   "source": [
    "plt.subplot(122)\n",
    "plt.show()"
   ]
  },
  {
   "cell_type": "code",
   "execution_count": null,
   "id": "a6d9248f-3d6f-4c8c-8e4a-ad73d09290fe",
   "metadata": {},
   "outputs": [],
   "source": [
    "row=200\n",
    "columns=20"
   ]
  },
  {
   "cell_type": "code",
   "execution_count": null,
   "id": "65f18a00-fa1a-40f5-9341-ae539684d66a",
   "metadata": {},
   "outputs": [],
   "source": [
    "plt.figure(figsize=(10,10))\n",
    "plt.imshow(image[0:row,0:columns,:])\n",
    "plt.show()"
   ]
  },
  {
   "cell_type": "code",
   "execution_count": null,
   "id": "7e407659-aebd-455e-a7d2-87a7e5b9aede",
   "metadata": {},
   "outputs": [],
   "source": [
    "test = new_image.copy()\n",
    "\n",
    "test"
   ]
  },
  {
   "cell_type": "code",
   "execution_count": null,
   "id": "fcf403cb-358c-4527-9814-826698f55a33",
   "metadata": {},
   "outputs": [],
   "source": []
  },
  {
   "cell_type": "code",
   "execution_count": null,
   "id": "7c57887c-5032-4334-b2e1-e95355d95452",
   "metadata": {},
   "outputs": [],
   "source": [
    "test = image.copy()\n",
    "plt.imshow(test)\n",
    "plt.show()"
   ]
  },
  {
   "cell_type": "code",
   "execution_count": null,
   "id": "128d75f7-ddb0-49ca-9520-012d89bb86ef",
   "metadata": {},
   "outputs": [],
   "source": [
    "image_red = image.copy()\n",
    "image_red[:,0,:] = 0"
   ]
  },
  {
   "cell_type": "code",
   "execution_count": null,
   "id": "998bf198-f67b-4d2c-8e46-bf21ef66f7e0",
   "metadata": {},
   "outputs": [],
   "source": [
    "image_red = image.copy()\n",
    "image_red[:,:,0] = 0\n",
    "image_red[:,:,0] =0\n",
    "plt.imshow(image_red)\n",
    "plt.show()"
   ]
  },
  {
   "cell_type": "code",
   "execution_count": null,
   "id": "69d9eb5c-e846-4966-a545-fc8ff9ce3985",
   "metadata": {},
   "outputs": [],
   "source": [
    "image_red = image.copy()\n",
    "image_red[:,:,0] = 0\n",
    "image_red[:,:,0] =0\n",
    "plt.figure(figsize=(10,10))\n",
    "plt.imshow(cv2.cvtColor(image_red,cv2.COLOR_BGR2RGB))\n",
    "plt.show()"
   ]
  },
  {
   "cell_type": "code",
   "execution_count": null,
   "id": "8b007e61-ee3b-4975-9c8f-b506710c4f3b",
   "metadata": {},
   "outputs": [],
   "source": [
    "image_blue = image.copy()\n",
    "image_blue[:,:,1] = 0\n",
    "image_blue[:,:,2] =0\n",
    "plt.figure(figsize=(10,10))\n",
    "plt.imshow(cv2.cvtColor(image_blue,cv2.COLOR_BGR2RGB))\n",
    "plt.show()"
   ]
  },
  {
   "cell_type": "code",
   "execution_count": null,
   "id": "b3733053-3636-4aec-a761-d7959f39ec57",
   "metadata": {},
   "outputs": [],
   "source": [
    "lab4image =image"
   ]
  },
  {
   "cell_type": "code",
   "execution_count": null,
   "id": "847a0f69-1850-4be5-8725-407d318c2506",
   "metadata": {},
   "outputs": [],
   "source": [
    "id(lab4image)"
   ]
  },
  {
   "cell_type": "code",
   "execution_count": null,
   "id": "a5c3b8d0-4a56-40ba-ad80-501ce31b1312",
   "metadata": {},
   "outputs": [],
   "source": [
    "id(image)"
   ]
  },
  {
   "cell_type": "code",
   "execution_count": null,
   "id": "57f35b3a-cdb9-4823-9d9b-8ca5054c1dc9",
   "metadata": {},
   "outputs": [],
   "source": [
    "lab4bimage = image.copy()\n",
    "id(lab4bimage)"
   ]
  },
  {
   "cell_type": "code",
   "execution_count": null,
   "id": "7acbbd0f-6c10-4979-9f5d-fd5fadb1a0b8",
   "metadata": {},
   "outputs": [],
   "source": [
    "image[:,:,]=0"
   ]
  },
  {
   "cell_type": "code",
   "execution_count": null,
   "id": "e8113a89-12eb-47fa-9853-2ada053f560d",
   "metadata": {},
   "outputs": [],
   "source": [
    "id(image)"
   ]
  },
  {
   "cell_type": "code",
   "execution_count": null,
   "id": "5643603b-beb4-41a7-8414-d57638302bc0",
   "metadata": {},
   "outputs": [],
   "source": [
    "plt.figure(figsize=(10,10))\n",
    "plt.subplot(121)\n",
    "plt.imshow(cv2.cvtColor(image,cv2.COLOR_BGR2RGB))\n",
    "plt.title(\"home iamge\")\n",
    "plt.subplot(122)\n",
    "plt.imshow(cv2.cvtColor(lab4image,cv2.COLOR_BGR2RGB))\n",
    "plt.title(\"My Lab4 Image\")\n",
    "plt.show()"
   ]
  },
  {
   "cell_type": "code",
   "execution_count": null,
   "id": "3d1e35dc-fdc4-486b-b83b-38207e40a9d8",
   "metadata": {},
   "outputs": [],
   "source": [
    "w, h, c =lab4image.shape"
   ]
  },
  {
   "cell_type": "code",
   "execution_count": null,
   "id": "46924c71-1536-4a5e-ab51-0ded60c7958f",
   "metadata": {},
   "outputs": [],
   "source": [
    "print('width, height, c',w,h,c)"
   ]
  },
  {
   "cell_type": "code",
   "execution_count": null,
   "id": "6af342a9-cd88-4532-8add-d93d3d0493da",
   "metadata": {},
   "outputs": [],
   "source": [
    "import numpy as np\n",
    "array_imageflip = np.zeros((w,h,c),dtype=np.uint8)"
   ]
  },
  {
   "cell_type": "code",
   "execution_count": null,
   "id": "8b523ff9-1a56-41cc-8876-5f7baf1274bb",
   "metadata": {},
   "outputs": [],
   "source": [
    "array_imageflip"
   ]
  },
  {
   "cell_type": "code",
   "execution_count": null,
   "id": "ee460bfe-3d37-4bc1-8ab8-8571674c50be",
   "metadata": {},
   "outputs": [],
   "source": [
    "for i, row in enumerate(lab4bimage):\n",
    "    array_imageflip[w-1-i,:,:] =row"
   ]
  },
  {
   "cell_type": "code",
   "execution_count": null,
   "id": "e1aa7ac4-4e8d-4ed9-a675-a2c2fdffd406",
   "metadata": {},
   "outputs": [],
   "source": [
    "array_imageflip"
   ]
  },
  {
   "cell_type": "code",
   "execution_count": null,
   "id": "78bb27ce-a4c8-4458-a7d8-8f07ab8fe655",
   "metadata": {},
   "outputs": [],
   "source": [
    "plt.figure(figsize=(10,10))\n",
    "plt.imshow(cv2.cvtColor(array_imageflip,cv2.COLOR_BGR2RGB))\n",
    "plt.show()"
   ]
  },
  {
   "cell_type": "code",
   "execution_count": null,
   "id": "99e37dd7-9cbb-4dfa-94fb-1f245dfb82e8",
   "metadata": {},
   "outputs": [],
   "source": [
    "direction = [0,1,-1]"
   ]
  },
  {
   "cell_type": "code",
   "execution_count": null,
   "id": "0e7347ec-0668-49ad-8651-7190e8314bb4",
   "metadata": {},
   "outputs": [],
   "source": [
    "for flipdir in [0,1,-1]:\n",
    "    myflipimage=cv2.flip(lab4bimage,flipdir)\n",
    "    plt.imshow(cv2.cvtColor(myflipimage,cv2.COLOR_BGR2RGB))\n",
    "    plt.title(\"flip Direction: \"+str(flipdir))\n",
    "    plt.show()"
   ]
  },
  {
   "cell_type": "code",
   "execution_count": null,
   "id": "3dbd7b80-6838-4052-88b1-ae1811ea7ad3",
   "metadata": {},
   "outputs": [],
   "source": [
    "lab5 = np.zeros((10,10))"
   ]
  },
  {
   "cell_type": "code",
   "execution_count": null,
   "id": "d0b9da8f-a72f-463d-81d9-07193adcc401",
   "metadata": {},
   "outputs": [],
   "source": [
    "lab5"
   ]
  },
  {
   "cell_type": "markdown",
   "id": "1853a499-f0d0-43b6-9026-e2f030ccd29a",
   "metadata": {},
   "source": []
  },
  {
   "cell_type": "code",
   "execution_count": null,
   "id": "b05ce08f-6b71-4fcd-be4d-3a625a57bb19",
   "metadata": {},
   "outputs": [],
   "source": [
    "lab5[1:9,1:9] = 255"
   ]
  },
  {
   "cell_type": "code",
   "execution_count": null,
   "id": "70368e80-1e34-49c4-8799-e429755cbebe",
   "metadata": {},
   "outputs": [],
   "source": [
    "lab5[2:8,2:8]=0"
   ]
  },
  {
   "cell_type": "code",
   "execution_count": null,
   "id": "d1c978f5-4259-4719-8d6b-620b48217393",
   "metadata": {},
   "outputs": [],
   "source": [
    "plt.imshow(lab5,cmap='gray')\n",
    "plt.show()\n",
    "lab5"
   ]
  },
  {
   "cell_type": "code",
   "execution_count": null,
   "id": "114a3de1-b42e-4802-8a4b-3f6bdf2866a2",
   "metadata": {},
   "outputs": [],
   "source": [
    "rs=100\n",
    "co =200\n",
    "newlab5 =cv2.resize(lab4bimage,(rs,co),interpolation =cv2.INTER_CUBIC)"
   ]
  },
  {
   "cell_type": "code",
   "execution_count": null,
   "id": "5b6ae316-ae6d-48a1-a731-723c9fdfd1e8",
   "metadata": {},
   "outputs": [],
   "source": [
    "plt.imshow(newlab5, cmap='grey')\n",
    "plt.show()\n",
    "newlab5"
   ]
  },
  {
   "cell_type": "code",
   "execution_count": null,
   "id": "6401b308-da13-4a8f-87ab-3ba599245761",
   "metadata": {},
   "outputs": [],
   "source": [
    "print(\"old image shap\",lab4bimage.shape, \"new image shape:\", newlab5.shape)"
   ]
  },
  {
   "cell_type": "code",
   "execution_count": null,
   "id": "3b0870f5-1bc1-4ecf-bb03-f21c366fd736",
   "metadata": {},
   "outputs": [],
   "source": [
    "tx =0\n",
    "ty=100\n",
    "newlab5a = np.float32([[1,0,tx],[0,1,ty]])\n",
    "newlab5a"
   ]
  },
  {
   "cell_type": "code",
   "execution_count": null,
   "id": "0eb1773e-c522-4fa7-b500-95c470be2a48",
   "metadata": {},
   "outputs": [],
   "source": [
    "ro,co , _= lab4bimage.shape"
   ]
  },
  {
   "cell_type": "code",
   "execution_count": null,
   "id": "c7fda144-0565-498f-8222-ba50ff53fd99",
   "metadata": {},
   "outputs": [],
   "source": [
    "ro,co , _= lab4bimage.shape"
   ]
  },
  {
   "cell_type": "code",
   "execution_count": null,
   "id": "715bb251-07cc-4b69-9094-8854affdc9bf",
   "metadata": {},
   "outputs": [],
   "source": [
    "lab5imageb = cv2.warpAffine(lab4bimage,newlab5a,(ro,co))\n",
    "plt.imshow(cv2.cvtColor(lab5imageb,cv2.COLOR_BGR2RGB))\n",
    "plt.show()"
   ]
  },
  {
   "cell_type": "code",
   "execution_count": null,
   "id": "af8f7954-0528-4ccc-a14b-5d141cca5713",
   "metadata": {},
   "outputs": [],
   "source": [
    "def plot_image(image_1,image_2, title_1=\"Orignal\", title_2=\"New Image\"):\n",
    "    plt.figure(figsize=(10,10))\n",
    "    plt.subplot(1,2,1)\n",
    "    plt.imshow(image_1,cmap=\"gray\")\n",
    "    plt.title(title_1)\n",
    "    plt.subplot(1,2,2)\n",
    "    plt.imshow(image_2,cmap=\"gray\")\n",
    "    plt.title(title_2)\n",
    "    plt.show()"
   ]
  },
  {
   "cell_type": "code",
   "execution_count": null,
   "id": "231aed89-6311-44ec-981e-9d4cf12e22bd",
   "metadata": {},
   "outputs": [],
   "source": [
    "angle1=20.0\n",
    "newM = cv2.getRotationMatrix2D(center=(5,5), angle=angle1, scale=1)\n",
    "newlab5c =cv2.warpAffine(lab4bimage,newM,(10,10))\n",
    "lab4bimage\n",
    "plot_image(lab4bimage,newlab5c, title_1=\"Orignal image\",title_2=\"rotated image\")\n",
    "lab4bimage\n",
    "print(\" new \")\n",
    "newlab5c\n",
    "print(\"test\")"
   ]
  },
  {
   "cell_type": "code",
   "execution_count": null,
   "id": "d26b7cb2-c030-4756-baab-d59f5fc8e56f",
   "metadata": {},
   "outputs": [],
   "source": [
    "def plot_hist(old_image, new_image, title_old=\"Original\", title_new=\"new Image\"):\n",
    "    int_val =np.array([ x for x in range(256)])\n",
    "    plt.subplot(1,2,1)\n",
    "    plt.bar(inte_val, cv2.calcHist([old_image],[0],None,[256],[0,256])[:,0],width=5)\n",
    "    plt.title(title_old)\n",
    "    plt.xlable('Intensity')\n",
    "    plt.subplot(1,2,2)\n",
    "    plt.bar(inte_val, cv2.calcHist([old_image],[0],None,[256],[0,256])[:,0],width=5)\n",
    "    plt.title(title_new)\n",
    "    plt.xlable('Intensity')\n",
    "    plt.show()\n"
   ]
  },
  {
   "cell_type": "code",
   "execution_count": null,
   "id": "8353945f-40cf-4b3c-974b-04f5820900f2",
   "metadata": {},
   "outputs": [],
   "source": [
    "lab6 = np.array([[0,2,2],[1,1,1],[1,1,1]], dtype=np.uint8)\n",
    "plt.imshow(lab6, cmap=\"gray\")\n",
    "plt.show()\n",
    "print(\"lab6_image:\", lab6)"
   ]
  },
  {
   "cell_type": "markdown",
   "id": "7c71d40d-2ad7-4d5e-9a43-796bf390926f",
   "metadata": {},
   "source": []
  },
  {
   "cell_type": "code",
   "execution_count": null,
   "id": "e6d19a75-6d23-421d-ac17-958eb28e2b6f",
   "metadata": {},
   "outputs": [],
   "source": [
    "plt.bar([x for x in range(6)],[1,5,2,0,0,0])\n",
    "plt.show()"
   ]
  },
  {
   "cell_type": "code",
   "execution_count": null,
   "id": "42a5492f-4d65-4b68-856c-7fdba1a702ab",
   "metadata": {},
   "outputs": [],
   "source": [
    "lab4bimage"
   ]
  },
  {
   "cell_type": "code",
   "execution_count": null,
   "id": "47256675-2c54-41aa-aa9e-6ffa1c9c201b",
   "metadata": {},
   "outputs": [],
   "source": [
    "import cv2\n",
    "import matplotlib.pyplot as plt\n",
    "newImage = cv2.imread(r\"D:\\files_data\\c.v lab\\files\\img3.jpg\",cv2.IMREAD_GRAYSCALE)"
   ]
  },
  {
   "cell_type": "code",
   "execution_count": null,
   "id": "dbdf9704-8936-4915-b4a8-f5f04a2c6c3d",
   "metadata": {},
   "outputs": [],
   "source": [
    "newImage"
   ]
  },
  {
   "cell_type": "code",
   "execution_count": null,
   "id": "0b2a02e3-3657-4f89-825e-076cd706ed58",
   "metadata": {},
   "outputs": [],
   "source": [
    "plt.figure(figsize=(10,6))\n",
    "plt.imshow(newImage,cmap=\"gray\")\n",
    "plt.show()"
   ]
  },
  {
   "cell_type": "code",
   "execution_count": null,
   "id": "8923a25b-7d82-4dc6-a478-446ddb7202f0",
   "metadata": {},
   "outputs": [],
   "source": [
    "hista = cv2.calcHist([newImage],[0],None,[256],[0,256])\n",
    "print(hista)"
   ]
  },
  {
   "cell_type": "code",
   "execution_count": null,
   "id": "93540594-1cd7-400d-8908-e7dd09cc5d9f",
   "metadata": {
    "scrolled": true
   },
   "outputs": [],
   "source": [
    "int_val = np.array([x for x in range(hista.shape[0])])\n",
    "plt.bar(int_val,hista[:,0],width = 5)\n",
    "plt.title(\"Bar Historgram\")\n",
    "plt.show()"
   ]
  },
  {
   "cell_type": "code",
   "execution_count": null,
   "id": "a4542cba-7c6c-4fc0-b2d7-39444d241ae8",
   "metadata": {},
   "outputs": [],
   "source": [
    "hista"
   ]
  },
  {
   "cell_type": "code",
   "execution_count": null,
   "id": "1cc322fe-00eb-4f03-92de-f468df4aea41",
   "metadata": {},
   "outputs": [],
   "source": [
    "newImage.shape\n",
    "test = hista / (newImage.shape[0] * newImage.shape[1])"
   ]
  },
  {
   "cell_type": "code",
   "execution_count": null,
   "id": "8e97c713-08dc-4e0c-8a14-19f06c4c3af3",
   "metadata": {},
   "outputs": [],
   "source": [
    "test"
   ]
  },
  {
   "cell_type": "code",
   "execution_count": null,
   "id": "8aab4d49-8b5a-4f25-a4db-2797636aac6f",
   "metadata": {},
   "outputs": [],
   "source": [
    "plt.plot(test)\n",
    "plt.title(\"Bar Histogram\")\n",
    "plt.show()"
   ]
  },
  {
   "cell_type": "code",
   "execution_count": null,
   "id": "a2da6a3e-e322-4cce-85f8-27a1e655d11f",
   "metadata": {},
   "outputs": [],
   "source": [
    "lab6"
   ]
  },
  {
   "cell_type": "code",
   "execution_count": null,
   "id": "ff32bd3a-1ef0-4444-8de4-1c054381a719",
   "metadata": {},
   "outputs": [],
   "source": [
    "newLab6 = lab6 +255* 1\n",
    "print(\"Original Image lab6\", lab6)\n",
    "print(\"new image\", newLab6)"
   ]
  },
  {
   "cell_type": "code",
   "execution_count": null,
   "id": "a96838ad-ebac-4994-9ba1-1ca139db2c4e",
   "metadata": {},
   "outputs": [],
   "source": [
    "newLab6 = lab6 +255* 1\n",
    "print(\"Original Image lab6\", lab6)\n",
    "print(\"new image\", newLab6)"
   ]
  },
  {
   "cell_type": "code",
   "execution_count": null,
   "id": "23aca3bb-4a4c-4860-8870-0174d41846f4",
   "metadata": {},
   "outputs": [],
   "source": [
    "plt.figure(figsize=(10,10))\n",
    "plt.subplot(1,2,1)\n",
    "plt.imshow(lab6, cmap=\"gray\")\n",
    "plt.subplot(1,2,2)\n",
    "plt.imshow(newLab6, cmap=\"gray\")\n",
    "plt.show()"
   ]
  },
  {
   "cell_type": "code",
   "execution_count": null,
   "id": "efa60c6e-5ca1-43da-9cd1-a39dc43df4c1",
   "metadata": {},
   "outputs": [],
   "source": [
    "cv2.rectangle(newImage, pt1=(100,212), pt2 = (200,280), color = (255), thickness=2)\n",
    "plt.figure(figsize=(10,10))\n",
    "plt.imshow(newImage,cmap=\"gray\")\n",
    "plt.show()"
   ]
  },
  {
   "cell_type": "code",
   "execution_count": null,
   "id": "8e0d6abc-258b-4f72-b99f-61b6fd518802",
   "metadata": {},
   "outputs": [],
   "source": [
    "alpha = 10\n",
    "beta = 100\n",
    "new_lab8 = cv2.convertScaleAbs(newImage, alpha=alpha, beta=beta)\n",
    "plt.figure(figsize=(10,10))\n",
    "plt.imshow(new_lab8, cmap=\"gray\")\n",
    "plt.show()"
   ]
  },
  {
   "cell_type": "code",
   "execution_count": null,
   "id": "be67b8c5-d7bf-40a2-bfab-a5c92a160181",
   "metadata": {},
   "outputs": [],
   "source": [
    "import numpy as np\n",
    "import matplotlib.pyplot as plt\n",
    "import cv2\n",
    "\n",
    "\n",
    "def thresholding_img(image, threshold,max_value = 255, min_value = 0):\n",
    "    x,y= image.shape\n",
    "    newImage8 = np.zeros((x,y),dtype = np.uint8)\n",
    "    for i in range(x):\n",
    "        for j in range(y):\n",
    "            if image[i,j] > threshold:\n",
    "              newImage8[i,j] = max_value\n",
    "            else:\n",
    "                newImage8[i,j] = min_value\n",
    "    return newImage8\n",
    "\n",
    "threshold = 128\n",
    "max_value = 100\n",
    "min_value = 200\n",
    "newThresImage = thresholding_img(newImage, threshold = threshold, max_value = max_value, min_value = min_value)\n",
    "plt.figure(figsize=(10,10))\n",
    "plt.imshow(newThresImage, cmap=\"gray\")\n",
    "plt.show()\n",
    "\n",
    "\n",
    "\n",
    "hist = cv2.calcHist([newThresImage], [0],None,[256],[0,256])\n",
    "intensity_value = np.array([x for x in range(256)])\n",
    "plt.bar(intensity_value, hist[:,0], width=5)\n",
    "plt.title(\"new image bar graph\")\n",
    "plt.show()\n",
    "\n",
    "ret, newThresImage = cv2.threshold(newImage,threshold,max_value,cv2.THRESH_TRUNC)\n",
    "plot_image(newImage, newThresImage, \"original image\",\"new image\")\n",
    "hist  = cv2.calcHist([newThresImage],[0],None,[256],[0,256])\n",
    "intensity_value = np.array([x for x in range(256)])\n",
    "plt.bar(intensity_value, hist[:,0], width=5)\n",
    "plt.title(\"new image bar graph\")\n",
    "plt.show()"
   ]
  },
  {
   "cell_type": "code",
   "execution_count": null,
   "id": "9ef3f02d-a7db-453f-9f09-fc74f9ae222f",
   "metadata": {},
   "outputs": [],
   "source": [
    "\n",
    "hist = cv2.calcHist([newThresImage], [0],None,[256],[0,256])\n",
    "intensity_value = np.array([x for x in range(256)])\n",
    "plt.bar(intensity_value, hist[:,0], width=5)\n",
    "plt.title(\"new image bar graph\")\n",
    "plt.show()\n",
    "\n",
    "ret, newThresImage = cv2.threshold(newImage,threshold,max_value,cv2.THRESH_TRUNC)\n",
    "plot_image(newImage, newThresImage, \"original image\",\"new image\")\n",
    "hist  = cv2.calcHist([newThresImage],[0],None,[256],[0,256])\n",
    "intensity_value = np.array([x for x in range(256)])\n",
    "plt.bar(intensity_value, hist[:,0], width=5)\n",
    "plt.title(\"new image bar graph\")\n",
    "plt.show()"
   ]
  },
  {
   "cell_type": "code",
   "execution_count": null,
   "id": "361eb92e-9990-47a4-a6e7-7e30b5a4fc5b",
   "metadata": {},
   "outputs": [],
   "source": [
    "ret, newThresImage = cv2.threshold(newImage,threshold,max_value,cv2.THRESH_TRUNC)\n",
    "plot_image(newImage, newThresImage, \"original image\",\"new image\")\n",
    "hist  = cv2.calcHist([newThresImage],[0],None,[256],[0,256])\n",
    "intensity_value = np.array([x for x in range(256)])\n",
    "plt.bar(intensity_value, hist[:,0], width=5)\n",
    "plt.title(\"new image bar graph\")\n",
    "plt.show()\n"
   ]
  },
  {
   "cell_type": "code",
   "execution_count": null,
   "id": "769e6e20",
   "metadata": {},
   "outputs": [],
   "source": [
    "###########  hand made functions \n",
    "import numpy as np\n",
    "\n",
    "def custom_getRotationMatrix2D(center, angle, scale=1.0):\n",
    "    theta = np.radians(angle)\n",
    "    cos_val = np.cos(theta) * scale\n",
    "    sin_val = np.sin(theta) * scale\n",
    "    tx = (1 - cos_val) * center[0] + sin_val * center[1]\n",
    "    ty = (1 - cos_val) * center[1] - sin_val * center[0]\n",
    "    M = np.array([\n",
    "        [cos_val, -sin_val, tx],\n",
    "        [sin_val,  cos_val, ty]\n",
    "    ], dtype=np.float32)\n",
    "    return M"
   ]
  },
  {
   "cell_type": "code",
   "execution_count": null,
   "id": "dfd12a58",
   "metadata": {},
   "outputs": [],
   "source": [
    "import numpy as np\n",
    "import matplotlib.pyplot as plt\n",
    "import cv2\n",
    "\n",
    "def custom_plot_hist(image, channels=[0], mask=None, hist_size=256, ranges=[0, 256]):\n",
    "    plt.figure(figsize=(8, 6))\n",
    "    \n",
    "    for ch in channels:\n",
    "        hist = np.zeros(hist_size, dtype=np.float32)\n",
    "\n",
    "        pixels = image[:, :, ch].flatten() if len(image.shape) == 3 else image.flatten()\n",
    "        if mask is not None:\n",
    "            pixels = pixels[mask.flatten() > 0]\n",
    "\n",
    "        bin_width = (ranges[1] - ranges[0]) / hist_size\n",
    "        for pixel in pixels:\n",
    "            bin_index = int((pixel - ranges[0]) / bin_width)\n",
    "            if 0 <= bin_index < hist_size:\n",
    "                hist[bin_index] += 1\n",
    "\n",
    "        hist /= pixels.size\n",
    "        color = ('b', 'g', 'r')[ch] if len(image.shape) == 3 else 'black'\n",
    "        plt.plot(hist, color=color, label=f'Channel {ch}')\n",
    "\n",
    "    plt.title(\"Histogram\")\n",
    "    plt.xlabel(\"Pixel Value\")\n",
    "    plt.ylabel(\"Normalized Frequency\")\n",
    "    plt.legend()\n",
    "    plt.show()"
   ]
  },
  {
   "cell_type": "code",
   "execution_count": null,
   "id": "d6c57115",
   "metadata": {},
   "outputs": [],
   "source": [
    "import numpy as np\n",
    "import cv2\n",
    "def custom_resize(image, dsize=None, fx=None, fy=None, interpolation=cv2.INTER_LINEAR):\n",
    "    h, w = image.shape[:2]\n",
    "    if dsize is not None:\n",
    "        new_w, new_h = dsize\n",
    "    elif fx is not None and fy is not None:\n",
    "        new_w, new_h = int(w * fx), int(h * fy)\n",
    "    else:\n",
    "        raise ValueError(\"Either dsize or both fx, fy must be provided.\")\n",
    "    resized = np.zeros((new_h, new_w, image.shape[2]) if len(image.shape) == 3 else (new_h, new_w), dtype=image.dtype)\n",
    "    x_ratio, y_ratio = w / new_w, h / new_h\n",
    "    for i in range(new_h):\n",
    "        for j in range(new_w):\n",
    "            orig_x, orig_y = j * x_ratio, i * y_ratio\n",
    "            if interpolation == cv2.INTER_NEAREST:\n",
    "                new_x, new_y = int(round(orig_x)), int(round(orig_y))\n",
    "                resized[i, j] = image[min(new_y, h - 1), min(new_x, w - 1)]\n",
    "\n",
    "            elif interpolation == cv2.INTER_LINEAR:\n",
    "                x0, y0 = int(orig_x), int(orig_y)\n",
    "                x1, y1 = min(x0 + 1, w - 1), min(y0 + 1, h - 1)\n",
    "                dx, dy = orig_x - x0, orig_y - y0\n",
    "                A = image[y0, x0]\n",
    "                B = image[y0, x1]\n",
    "                C = image[y1, x0]\n",
    "                D = image[y1, x1] \n",
    "                pixel_value = (1 - dx) * (1 - dy) * A + dx * (1 - dy) * B + (1 - dx) * dy * C + dx * dy * D\n",
    "                resized[i, j] = pixel_value\n",
    "    return resized"
   ]
  },
  {
   "cell_type": "code",
   "execution_count": null,
   "id": "6e493dff",
   "metadata": {},
   "outputs": [],
   "source": [
    "import numpy as np\n",
    "import cv2\n",
    "def custom_flip(image, flipCode):\n",
    "    h, w = image.shape[:2]\n",
    "\n",
    "    if flipCode == 0:\n",
    "        flipped = np.zeros_like(image)\n",
    "        for i in range(h):\n",
    "            flipped[i] = image[h - 1 - i]\n",
    "    \n",
    "    elif flipCode == 1:\n",
    "        flipped = np.zeros_like(image)\n",
    "        for j in range(w):\n",
    "            flipped[:, j] = image[:, w - 1 - j]\n",
    "    \n",
    "    elif flipCode == -1:\n",
    "        flipped = np.zeros_like(image)\n",
    "        for i in range(h):\n",
    "            for j in range(w):\n",
    "                flipped[i, j] = image[h - 1 - i, w - 1 - j]\n",
    "    else:\n",
    "        raise ValueError(\"Invalid flipCode. Use 0 (vertical), 1 (horizontal), or -1 (both).\")\n",
    "    return flipped"
   ]
  },
  {
   "cell_type": "code",
   "execution_count": null,
   "id": "9e2fb729",
   "metadata": {},
   "outputs": [],
   "source": [
    "import numpy as np\n",
    "def custom_vconcat(images):\n",
    "    if not images:\n",
    "        raise ValueError(\"No images provided\")\n",
    "    w = images[0].shape[1]\n",
    "    for img in images:\n",
    "        if img.shape[1] != w:\n",
    "            raise ValueError(\"All images must have the same number of columns\")\n",
    "    return np.concatenate(images, axis=0)"
   ]
  },
  {
   "cell_type": "code",
   "execution_count": null,
   "id": "90021ae0",
   "metadata": {},
   "outputs": [],
   "source": [
    "import numpy as np\n",
    "\n",
    "def custom_cvtColor(image, code):\n",
    "    if not isinstance(image, np.ndarray):\n",
    "        raise ValueError(\"Input image must be a NumPy array.\")\n",
    "    \n",
    "    if len(image.shape) < 3 or image.shape[2] != 3:\n",
    "        raise ValueError(\"Input image must be a BGR image with 3 channels.\")\n",
    "\n",
    "    if code == 'BGR2GRAY':\n",
    "        gray_image = (0.114 * image[:, :, 0] + 0.587 * image[:, :, 1] + 0.299 * image[:, :, 2]).astype(np.uint8)\n",
    "        return gray_image\n",
    "    elif code == 'BGR2RGB':\n",
    "        rgb_image = image[:, :, ::-1] \n",
    "        return rgb_image\n",
    "    else:\n",
    "        raise ValueError(\"Invalid conversion code. Use 'BGR2GRAY' or 'BGR2RGB'.\")"
   ]
  },
  {
   "cell_type": "code",
   "execution_count": null,
   "id": "69b1c356",
   "metadata": {},
   "outputs": [],
   "source": [
    "import cv2\n",
    "import matplotlib.pyplot as plt\n",
    "import numpy as np\n",
    "\n",
    "def plot_image(image_1,image_2, title_1=\"Orignal\", title_2=\"New Image\"):\n",
    "    plt.figure(figsize=(10,10))\n",
    "    plt.subplot(1,2,1)\n",
    "    plt.imshow(image_1,cmap=\"gray\")\n",
    "    plt.title(title_1)\n",
    "    plt.subplot(1,2,2)\n",
    "    plt.imshow(image_2,cmap=\"gray\")\n",
    "    plt.title(title_2)\n",
    "    plt.show()\n",
    "\n",
    "imagee = cv2.imread(r\"files/img3.jpg\")\n",
    "print(imagee)\n",
    "plt.imshow(cv2.cvtColor(imagee,cv2.COLOR_BGR2RGB))\n",
    "\n",
    "rows, cols, _ = imagee.shape\n",
    "nois = np.random.normal(0,15,(rows,cols,3)).astype(np.uint8)\n",
    "print(nois)\n",
    "\n",
    "noisyImage = imagee + nois\n",
    "plot_image(imagee, noisyImage, title_1=\"original\", title_2=\"noisy image\")\n",
    "\n",
    "kernel = np.ones((6, 6)) / 36\n",
    "imageFiltered = cv2.filter2D(src=noisyImage, ddepth=-1, kernel=kernel)\n",
    "plot_image(imagee, imageFiltered, title_1=\"Original\", title_2=\"Filtered Image\")\n"
   ]
  },
  {
   "cell_type": "code",
   "execution_count": null,
   "id": "f9e15fd0",
   "metadata": {},
   "outputs": [],
   "source": [
    "import cv2\n",
    "image = cv2.imread(r\"D:\\files_data\\c.v lab\\files\\img3.jpg\") \n",
    "\n",
    "blurred_image = cv2.GaussianBlur(image, (5, 5), 0)\n",
    "\n",
    "cv2.imshow(\"Original Image\", image)\n",
    "cv2.imshow(\"Gaussian Blurred Image\", blurred_image)\n",
    "\n",
    "cv2.waitKey()\n",
    "cv2.destroyAllWindows()"
   ]
  }
 ],
 "metadata": {
  "kernelspec": {
   "display_name": "Python 3",
   "language": "python",
   "name": "python3"
  },
  "language_info": {
   "codemirror_mode": {
    "name": "ipython",
    "version": 3
   },
   "file_extension": ".py",
   "mimetype": "text/x-python",
   "name": "python",
   "nbconvert_exporter": "python",
   "pygments_lexer": "ipython3",
   "version": "3.12.2"
  }
 },
 "nbformat": 4,
 "nbformat_minor": 5
}
